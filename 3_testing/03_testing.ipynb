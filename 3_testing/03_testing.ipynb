{
  "nbformat": 4,
  "nbformat_minor": 0,
  "metadata": {
    "colab": {
      "provenance": []
    },
    "kernelspec": {
      "name": "python3",
      "display_name": "Python 3"
    },
    "language_info": {
      "name": "python"
    }
  },
  "cells": [
    {
      "cell_type": "markdown",
      "metadata": {
        "id": "TfB89ylB-ric"
      },
      "source": [
        "#**Testing Dataset Capstone Project**\n"
      ]
    },
    {
      "cell_type": "markdown",
      "source": [
        "Setelah proses klasifikasi dilakukan untuk memprediksi cluster dari data baru (pengguna) berdasarkan pola fitur yang telah terbentuk, tahapan selanjutnya adalah melakukan pengujian model menggunakan dataset testing.\n",
        "\n",
        "Dataset yang digunakan adalah hasil clustering `Dataset_final_input_user.csv` yang terdiri dari 20.000 data. Dari total tersebut, sebanyak 5.000 data yang sebelumnya telah dipisahkan khusus untuk tahap pengujian untuk mengevaluasi performa model akan digunakan pada tahapan ini."
      ],
      "metadata": {
        "id": "ftLatC6UOkq-"
      }
    },
    {
      "cell_type": "markdown",
      "source": [
        "# 1. Package/Library yang digunakan"
      ],
      "metadata": {
        "id": "UWBJYsCeG52C"
      }
    },
    {
      "cell_type": "markdown",
      "source": [
        "Pada tahapan pertama dari proses testing akan dilakukan import package/library yang diperlukan untuk kemudahan dalam proses testing\n",
        "\n",
        "Beberapa library utama telah dijelaskan pada notebook sebelumnya, sehingga pada bagian ini hanya dijelaskan library tambahan yang belum dibahas sebelumnya, yaitu:\n",
        "\n",
        "*   `from tensorflow.keras.models import load_model`\n",
        "    > Untuk memuat model deep learning yang sudah dilatih dan disimpan sebelumnya dalam format HDF5 atau SavedModel.\n",
        "\n",
        "*   `from tensorflow.keras.utils import to_categorical`\n",
        "    > Untuk mengubah label numerik  menjadi format one-hot encoding, yang sering digunakan dalam klasifikasi multi-kelas agar label bisa kompatibel dengan output model neural network.\n",
        "\n",
        "*   `from sklearn.model_selection import StandardScaler`\n",
        "    > Untuk menstandarisasi fitur input dengan cara mengurangi nilai rata-rata dan membaginya dengan standar deviasi, sehingga setiap fitur memiliki distribusi dengan rata-rata 0 dan varians 1.\n",
        "\n",
        "*   `import gdown`\n",
        "    > Untuk mengunduh file dari Google Drive secara langsung menggunakan URL yang dibagikan, sering dipakai untuk mengambil model atau dataset yang disimpan secara online.\n"
      ],
      "metadata": {
        "id": "DbsVoIiuKAzR"
      }
    },
    {
      "cell_type": "code",
      "source": [
        "import pandas as pd\n",
        "import numpy as np\n",
        "import pickle\n",
        "\n",
        "from tensorflow.keras.models import load_model\n",
        "from tensorflow.keras.utils import to_categorical\n",
        "from sklearn.preprocessing import StandardScaler\n",
        "import gdown"
      ],
      "metadata": {
        "id": "Ol9-EBDJNhaX"
      },
      "execution_count": 1,
      "outputs": []
    },
    {
      "cell_type": "markdown",
      "source": [
        "# 2. Data Loading"
      ],
      "metadata": {
        "id": "U6MIg0etL4C-"
      }
    },
    {
      "cell_type": "markdown",
      "source": [
        "Pada tahapan selanjutnya dilakukan proses data loading, yaitu proses memuat dataset ke dalam lingkungan kerja agar data dapat digunakan dengan lebih mudah pada tahap-tahap berikutnya.\n"
      ],
      "metadata": {
        "id": "2MLF48t2P0PS"
      }
    },
    {
      "cell_type": "markdown",
      "source": [
        "## Mengunduh Dataset dari Google Drive"
      ],
      "metadata": {
        "id": "gKvSIPZvDbdl"
      }
    },
    {
      "cell_type": "code",
      "execution_count": 2,
      "metadata": {
        "colab": {
          "base_uri": "https://localhost:8080/",
          "height": 105
        },
        "id": "khL5izPekAxK",
        "outputId": "bd09828e-07eb-48ad-fb2c-047a6095adf1"
      },
      "outputs": [
        {
          "output_type": "stream",
          "name": "stderr",
          "text": [
            "Downloading...\n",
            "From: https://drive.google.com/uc?export=download&id=1MAeX0I6PcKJXoqTjt1-Ql4OG12lXdO5r\n",
            "To: /content/nolabel_datauji_df_final_4_cluster.csv\n",
            "100%|██████████| 478k/478k [00:00<00:00, 82.8MB/s]\n"
          ]
        },
        {
          "output_type": "execute_result",
          "data": {
            "text/plain": [
              "'nolabel_datauji_df_final_4_cluster.csv'"
            ],
            "application/vnd.google.colaboratory.intrinsic+json": {
              "type": "string"
            }
          },
          "metadata": {},
          "execution_count": 2
        }
      ],
      "source": [
        "csv_id = '1MAeX0I6PcKJXoqTjt1-Ql4OG12lXdO5r'\n",
        "csv_url = f'https://drive.google.com/uc?export=download&id={csv_id}'\n",
        "csv_filename = 'nolabel_datauji_df_final_4_cluster.csv'\n",
        "gdown.download(csv_url, csv_filename, quiet=False)"
      ]
    },
    {
      "cell_type": "markdown",
      "source": [
        "## Mengunduh Pipeline `preprocessing.pkl` dari Google Drive"
      ],
      "metadata": {
        "id": "-rxtxED9DhM_"
      }
    },
    {
      "cell_type": "code",
      "source": [
        "scaler_id = '1bDDQrZLAkxfZc59IJHcOwU1IkgyFlO1H'\n",
        "scaler_url = f'https://drive.google.com/uc?export=download&id={scaler_id}'\n",
        "scaler_filename = 'model_sakoo_ann_scaler_4.pkl'\n",
        "gdown.download(scaler_url, scaler_filename, quiet=False)"
      ],
      "metadata": {
        "colab": {
          "base_uri": "https://localhost:8080/",
          "height": 105
        },
        "id": "8BMaB1yKHkyQ",
        "outputId": "4de4a750-6333-41df-c127-41e3c7a1ab85"
      },
      "execution_count": 3,
      "outputs": [
        {
          "output_type": "stream",
          "name": "stderr",
          "text": [
            "Downloading...\n",
            "From: https://drive.google.com/uc?export=download&id=1bDDQrZLAkxfZc59IJHcOwU1IkgyFlO1H\n",
            "To: /content/model_sakoo_ann_scaler_4.pkl\n",
            "100%|██████████| 4.05k/4.05k [00:00<00:00, 7.63MB/s]\n"
          ]
        },
        {
          "output_type": "execute_result",
          "data": {
            "text/plain": [
              "'model_sakoo_ann_scaler_4.pkl'"
            ],
            "application/vnd.google.colaboratory.intrinsic+json": {
              "type": "string"
            }
          },
          "metadata": {},
          "execution_count": 3
        }
      ]
    },
    {
      "cell_type": "markdown",
      "source": [
        "## Mengunduh Model `model_sakoo_ann.keras` dari Google Drive"
      ],
      "metadata": {
        "id": "9SNbFC8bEkrm"
      }
    },
    {
      "cell_type": "code",
      "source": [
        "model_id = '1PbGDHKEQvCIIhRHnHdIyiyb4wGqG9SQ5'\n",
        "model_url = f'https://drive.google.com/uc?export=download&id={model_id}'\n",
        "model_filename = 'model_sakoo_ann_4.keras'\n",
        "gdown.download(model_url, model_filename, quiet=False)"
      ],
      "metadata": {
        "colab": {
          "base_uri": "https://localhost:8080/",
          "height": 105
        },
        "id": "HOcj1ZbNNPUA",
        "outputId": "8ad75aeb-11cd-42cc-e5a1-5b309cd238e9"
      },
      "execution_count": 4,
      "outputs": [
        {
          "output_type": "stream",
          "name": "stderr",
          "text": [
            "Downloading...\n",
            "From: https://drive.google.com/uc?export=download&id=1PbGDHKEQvCIIhRHnHdIyiyb4wGqG9SQ5\n",
            "To: /content/model_sakoo_ann_4.keras\n",
            "100%|██████████| 83.5k/83.5k [00:00<00:00, 57.1MB/s]\n"
          ]
        },
        {
          "output_type": "execute_result",
          "data": {
            "text/plain": [
              "'model_sakoo_ann_4.keras'"
            ],
            "application/vnd.google.colaboratory.intrinsic+json": {
              "type": "string"
            }
          },
          "metadata": {},
          "execution_count": 4
        }
      ]
    },
    {
      "cell_type": "markdown",
      "source": [
        "# 3. Data Preprocessing"
      ],
      "metadata": {
        "id": "dokRmykVLMRQ"
      }
    },
    {
      "cell_type": "markdown",
      "source": [
        "Menjadikan file sebelumnya ke dalam bentuk DataFrame `df`, selanjutnyakan digunakan sebagai data baru/uji yang akan diprediksi\n",
        "\n",
        "Kemudian membuka file scaler sebelumnya dan memuat objek tersebut kedalam variabel `scaler`\n"
      ],
      "metadata": {
        "id": "n8fSLusiMn9b"
      }
    },
    {
      "cell_type": "code",
      "source": [
        "df = pd.read_csv(csv_filename)\n",
        "\n",
        "X_new = df.values\n",
        "\n",
        "with open(scaler_filename, 'rb') as f:\n",
        "    scaler = pickle.load(f)\n",
        "X_new_scaled = scaler.transform(X_new)"
      ],
      "metadata": {
        "colab": {
          "base_uri": "https://localhost:8080/"
        },
        "id": "3-O71kJmMApU",
        "outputId": "ae2067b1-e6cc-460a-fa45-bb775c5138c8"
      },
      "execution_count": 5,
      "outputs": [
        {
          "output_type": "stream",
          "name": "stderr",
          "text": [
            "/usr/local/lib/python3.11/dist-packages/sklearn/utils/validation.py:2739: UserWarning: X does not have valid feature names, but StandardScaler was fitted with feature names\n",
            "  warnings.warn(\n"
          ]
        }
      ]
    },
    {
      "cell_type": "markdown",
      "source": [
        "# 4. Model Loading"
      ],
      "metadata": {
        "id": "D9KeWdU1MCWb"
      }
    },
    {
      "cell_type": "markdown",
      "source": [
        "Memuat model deeplearning sebelumnya kedalam memori, untuk digunakan pada saat melakukan prediksi pada data"
      ],
      "metadata": {
        "id": "77AnuSyDNRRk"
      }
    },
    {
      "cell_type": "code",
      "source": [
        "model = load_model(model_filename)"
      ],
      "metadata": {
        "id": "4PX8x_zvP2F9"
      },
      "execution_count": 6,
      "outputs": []
    },
    {
      "cell_type": "markdown",
      "source": [
        "## Evaluasi Hasil Prediksi"
      ],
      "metadata": {
        "id": "3FtN_4fhMWKX"
      }
    },
    {
      "cell_type": "markdown",
      "source": [
        "Pada tahapan ini dilakukan pemeriksaan dan menambahkan hasil prediksi model ke dalam data uji sebelumnya."
      ],
      "metadata": {
        "id": "mNj4YOG5NhCr"
      }
    },
    {
      "cell_type": "code",
      "source": [
        "y_pred = model.predict(X_new_scaled)\n",
        "y_pred_classes = np.argmax(y_pred, axis=1)\n",
        "\n",
        "assert len(y_pred_classes) == len(df)\n",
        "\n",
        "df['Prediksi'] = y_pred_classes\n",
        "\n",
        "print(df.head(10))"
      ],
      "metadata": {
        "id": "QkuHIdpwQFpL",
        "colab": {
          "base_uri": "https://localhost:8080/"
        },
        "outputId": "aedc972c-8b73-4560-f3ed-5e8d33815ea3"
      },
      "execution_count": 8,
      "outputs": [
        {
          "output_type": "stream",
          "name": "stdout",
          "text": [
            "\u001b[1m35/35\u001b[0m \u001b[32m━━━━━━━━━━━━━━━━━━━━\u001b[0m\u001b[37m\u001b[0m \u001b[1m1s\u001b[0m 7ms/step\n",
            "   Usia  Pendapatan Bulanan  Jumlah Tanggungan  Kebutuhan Pokok  \\\n",
            "0    34             4019520                  1          1169241   \n",
            "1    54             4660728                  1          1663886   \n",
            "2    48             3952925                  2          1352809   \n",
            "3    28             4996712                  2          1966592   \n",
            "4    19             5736166                  2          1472292   \n",
            "5    52             5305104                  0          1573030   \n",
            "6    43             5786633                  2          1541101   \n",
            "7    60             1000000                  0           280359   \n",
            "8    29             6644426                  3          2548638   \n",
            "9    38             1178543                  3           403959   \n",
            "\n",
            "   Tempat Tinggal  Transportasi  Pendidikan  Kesehatan  Komunikasi & Internet  \\\n",
            "0          517512        426117      257939     240969                 179347   \n",
            "1          591577        303940      199031     246969                 179410   \n",
            "2          554927        231617      482889     318430                 198828   \n",
            "3          562575        276089      512640     427263                 168466   \n",
            "4          460173        299935      465231     421699                 187352   \n",
            "5          776602        698119           0     100000                  95854   \n",
            "6          697446        508828      584222     456388                 113487   \n",
            "7          131526         58861           0     100000                  99696   \n",
            "8          981106        415430      799731     383046                 151458   \n",
            "9          153422        176094      714245     512228                 114034   \n",
            "\n",
            "   Gaya Hidup & Hiburan  ...  Dana Dari Simpanan Mana_Lainnya  \\\n",
            "0                247897  ...                            False   \n",
            "1                358416  ...                            False   \n",
            "2                137020  ...                            False   \n",
            "3                380517  ...                            False   \n",
            "4                384997  ...                             True   \n",
            "5                204543  ...                            False   \n",
            "6                289627  ...                            False   \n",
            "7                 75959  ...                             True   \n",
            "8                356297  ...                            False   \n",
            "9                 38337  ...                            False   \n",
            "\n",
            "   Dana Dari Simpanan Mana_Tabungan  Dana Dari Simpanan Mana_Tidak Ada  \\\n",
            "0                             False                               True   \n",
            "1                             False                              False   \n",
            "2                              True                              False   \n",
            "3                              True                              False   \n",
            "4                             False                              False   \n",
            "5                             False                              False   \n",
            "6                             False                              False   \n",
            "7                             False                              False   \n",
            "8                              True                              False   \n",
            "9                             False                               True   \n",
            "\n",
            "   ExpenseToIncomeRatio  SavingToIncomeRatio  DebtToIncomeRatio  \\\n",
            "0              0.831366             0.236300           0.194953   \n",
            "1              0.856540             0.156279           0.221438   \n",
            "2              0.877810             0.249530           0.112699   \n",
            "3              0.933492             0.052755           0.124002   \n",
            "4              0.742666             0.094673           0.086957   \n",
            "5              0.752240             0.149197           0.132956   \n",
            "6              0.839696             0.107952           0.128683   \n",
            "7              0.856471             0.223576           0.275631   \n",
            "8              0.955192             0.198711           0.117357   \n",
            "9              1.888126             0.064874           0.243743   \n",
            "\n",
            "   EmergencyFundRatio  AssetToDebtRatio  DebtToAssetRatio  Prediksi  \n",
            "0            0.060153          0.538368          1.857467         0  \n",
            "1            0.155773          2.180104          0.458694         1  \n",
            "2            0.038703          0.673414          1.484970         0  \n",
            "3            0.131924          0.706100          1.416230         0  \n",
            "4            0.134517          0.440082          2.272305         0  \n",
            "5            0.107216          0.270660          3.694674         0  \n",
            "6            0.140132          0.223822          4.467836         0  \n",
            "7            0.048100          1.600605          0.624764         0  \n",
            "8            0.088558          0.267172          3.742912         0  \n",
            "9            0.017966          0.764151          1.308642         3  \n",
            "\n",
            "[10 rows x 65 columns]\n"
          ]
        }
      ]
    },
    {
      "cell_type": "markdown",
      "source": [
        "**Insight**\n",
        "\n",
        "Model berhasil memprediksi kondisi keuangan berdasarkan data testing dengan distribusi prediksi."
      ],
      "metadata": {
        "id": "BxF8H17tOZoL"
      }
    }
  ]
}