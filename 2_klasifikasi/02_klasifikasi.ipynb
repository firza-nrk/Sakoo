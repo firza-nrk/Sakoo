{
  "cells": [
    {
      "cell_type": "markdown",
      "metadata": {
        "id": "TfB89ylB-ric"
      },
      "source": [
        "#**Klasifikasi Dataset Capstone Project**\n"
      ]
    },
    {
      "cell_type": "markdown",
      "source": [
        "Setelah proses klasifikasi dilakukan untuk mengelompokkan data tanpa label, tahap selanjutnya adalah membangun model klasifikasi untuk memprediksi cluster dari data baru (pengguna) berdasarkan pola fitur yang telah terbentuk. Pada tahap ini digunakan algoritma **Artificial Neural Network (ANN)** sebagai model klasifikasi karena kemampuannya dalam menangkap hubungan kompleks antar fitur.\n",
        "\n",
        "Dataset yang digunakan adalah dataset hasil clustering `Dataset_final_input_user.csv` yang berjumlah 20.000 data. Dari total 20.000 data yang tersedia, sebanyak **15.000 data digunakan untuk proses pelatihan** dan validasi model klasifikasi, sedangkan 5.000 data sisanya disimpan secara terpisah untuk tahap pengujian akhir.\n",
        "\n",
        "Proses ini bertujuan untuk membangun model prediktif yang dapat mengklasifikasikan data ke dalam cluster yang telah ditentukan sebelumnya, meskipun data tersebut belum pernah dilihat oleh model.\n"
      ],
      "metadata": {
        "id": "ZxNgBZyoGL_V"
      }
    },
    {
      "cell_type": "markdown",
      "source": [
        "# **1. Data Understanding**"
      ],
      "metadata": {
        "id": "GBH6F_MrymBn"
      }
    },
    {
      "cell_type": "markdown",
      "source": [
        "## Package/Library yang digunakan"
      ],
      "metadata": {
        "id": "UWBJYsCeG52C"
      }
    },
    {
      "cell_type": "markdown",
      "source": [
        "Pada tahapan pertama dari proses klasifikasi akan dilakukan import package/library yang diperlukan untuk kemudahan dalam proses analisis data, eksplorasi, pemodelan deep learning, visualisasi, serta evaluasi hasil\n",
        "\n",
        "Beberapa library utama telah dijelaskan pada notebook sebelumnya, sehingga pada bagian ini hanya dijelaskan library tambahan yang belum dibahas sebelumnya, yaitu:\n",
        "\n",
        "*   `!pip install keras-tuner --upgrade`\n",
        "    > Untuk menginstal/memperbarui library keras-tuner ke versi terbaru. keras-tuner adalah library tambahan untuk Keras yang digunakan dalam proses hyperparameter tuning, yakni untuk pencarian kombinasi parameter model terbaik (seperti jumlah neuron, learning rate, batch size, dll) secara otomatis untuk meningkatkan performa model\n",
        "\n",
        "*   `!pip install imbalanced-learn`\n",
        "    > Untuk menangani dataset yang tidak seimbang (imbalanced) dalam konteks klasifikasi, terdapat berbagai teknik seperti oversampling (SMOTE) dan undersampling, yang berguna untuk memperbaiki distribusi kelas agar model klasifikasi tidak bias terhadap kelas mayoritas dan dapat menghasilkan prediksi yang lebih akurat serta adil.\n",
        "\n",
        "*   `from sklearn.model_selection import StratifiedKFold, train_test_split`\n",
        "    > Untuk membagi dataset dan melakukan validasi model. `train_test_split` digunakan untuk membagi data menjadi data latih dan data uji, sedangkan `StratifiedKFold` adalah teknik validasi silang (cross-validation) yang memastikan distribusi label seimbang di setiap lipatan (fold), sangat penting untuk data klasifikasi yang tidak seimbang.\n",
        "\n",
        "*   `from sklearn.preprocessing import StandardScaler, LabelEncoder, MinMaxScaler,FunctionTransformer`\n",
        "    > Untuk transformasi data agar lebih sesuai untuk proses training model. `StandardScaler` dan `MinMaxScaler` digunakan untuk melakukan normalisasi atau standarisasi data numerik, `LabelEncoder` digunakan untuk mengubah label kategorikal menjadi numerik, dan `FunctionTransformer` untuk menerapkan fungsi kustom dalam pipeline preprocessing.\n",
        "\n",
        "*   `from sklearn.pipeline import Pipeline`\n",
        "    > Untuk menyusun urutan preprocessing dan training model dalam satu objek yang terintegrasi, mempermudah proses eksperimen dan memastikan semua tahapan preprocessing konsisten selama pelatihan dan pengujian.\n",
        "\n",
        "*   `from sklearn.utils import class_weight`\n",
        "    > Untuk fungsi utilitas tambahan. `class_weight` digunakan untuk menangani ketidakseimbangan kelas dalam model klasifikasi dengan memberi bobot lebih besar pada kelas minoritas saat training model.\n",
        "\n",
        "*   `from sklearn.metrics import accuracy_score, f1_score, classification_report, confusion_matrix`\n",
        "    > Untuk metrik evaluasi model. `accuracy_score` dan `f1_score` digunakan untuk menilai kinerja model klasifikasi, sedangkan `classification_report` dan `confusion_matrix` digunakan untuk memberikan gambaran detail terhadap prediksi model dibanding label aktual, termasuk precision, recall, dan f1-score per kelas.\n",
        "\n",
        "*   `from imblearn.over_sampling import SMOTE`\n",
        "    > Untuk menangani dataset tidak seimbang. SMOTE (Synthetic Minority Over-sampling Technique) adalah teknik yang membuat data sintetis untuk kelas minoritas agar distribusi kelas menjadi lebih seimbang dan model tidak bias terhadap kelas mayoritas.\n",
        "\n",
        "*   `tensorflow`\n",
        "    > Untuk membangun dan melatih model deep learning. `Sequential` digunakan untuk membangun model ANN secara berlapis. `Dense`, `Dropout`, `BatchNormalization`, dan `LeakyReLU` adalah komponen lapisan dalam jaringan saraf, sedangkan `categorical_crossentropy` digunakan sebagai fungsi loss untuk klasifikasi multi-kelas, `callbacks` seperti `EarlyStopping` dan `ReduceLROnPlateau` digunakan untuk membantu mengoptimalkan proses training, `to_categorical` mengubah label menjadi bentuk one-hot encoding, dan l2 digunakan sebagai regularisasi untuk mengurangi overfitting.\n",
        "\n",
        "*   `import keras_tuner as kt`\n",
        "    > Untuk melakukan tuning hyperparameter secara otomatis pada model Keras. Digunakan untuk mencari kombinasi parameter terbaik seperti jumlah neuron, learning rate, atau batch size untuk meningkatkan performa model secara sistematis.\n",
        "\n",
        "*   `import pickle`\n",
        "    > Untuk menyimpan model, pickle digunakan untuk berbagai jenis objek Python.\n",
        "\n",
        "*   `import joblib`\n",
        "    > Untuk menyimpan model, joblib digunakan untuk objek besar.\n",
        "\n",
        "*   `import warnings`\n",
        "\n",
        "     `warnings.filterwarnings('ignore')`\n",
        "    >  Untuk menyembunyikan peringatan agar output notebook tetap bersih dan fokus pada hasil utama.\n"
      ],
      "metadata": {
        "id": "DbsVoIiuKAzR"
      }
    },
    {
      "cell_type": "code",
      "source": [
        "!pip install keras-tuner --upgrade"
      ],
      "metadata": {
        "colab": {
          "base_uri": "https://localhost:8080/"
        },
        "id": "aeJ_6_aCI7t5",
        "outputId": "35388976-b984-4752-db29-319b85beb99d"
      },
      "execution_count": 19,
      "outputs": [
        {
          "output_type": "stream",
          "name": "stdout",
          "text": [
            "Requirement already satisfied: keras-tuner in /usr/local/lib/python3.11/dist-packages (1.4.7)\n",
            "Requirement already satisfied: keras in /usr/local/lib/python3.11/dist-packages (from keras-tuner) (3.8.0)\n",
            "Requirement already satisfied: packaging in /usr/local/lib/python3.11/dist-packages (from keras-tuner) (24.2)\n",
            "Requirement already satisfied: requests in /usr/local/lib/python3.11/dist-packages (from keras-tuner) (2.32.3)\n",
            "Requirement already satisfied: kt-legacy in /usr/local/lib/python3.11/dist-packages (from keras-tuner) (1.0.5)\n",
            "Requirement already satisfied: absl-py in /usr/local/lib/python3.11/dist-packages (from keras->keras-tuner) (1.4.0)\n",
            "Requirement already satisfied: numpy in /usr/local/lib/python3.11/dist-packages (from keras->keras-tuner) (2.0.2)\n",
            "Requirement already satisfied: rich in /usr/local/lib/python3.11/dist-packages (from keras->keras-tuner) (13.9.4)\n",
            "Requirement already satisfied: namex in /usr/local/lib/python3.11/dist-packages (from keras->keras-tuner) (0.1.0)\n",
            "Requirement already satisfied: h5py in /usr/local/lib/python3.11/dist-packages (from keras->keras-tuner) (3.13.0)\n",
            "Requirement already satisfied: optree in /usr/local/lib/python3.11/dist-packages (from keras->keras-tuner) (0.16.0)\n",
            "Requirement already satisfied: ml-dtypes in /usr/local/lib/python3.11/dist-packages (from keras->keras-tuner) (0.4.1)\n",
            "Requirement already satisfied: charset-normalizer<4,>=2 in /usr/local/lib/python3.11/dist-packages (from requests->keras-tuner) (3.4.2)\n",
            "Requirement already satisfied: idna<4,>=2.5 in /usr/local/lib/python3.11/dist-packages (from requests->keras-tuner) (3.10)\n",
            "Requirement already satisfied: urllib3<3,>=1.21.1 in /usr/local/lib/python3.11/dist-packages (from requests->keras-tuner) (2.4.0)\n",
            "Requirement already satisfied: certifi>=2017.4.17 in /usr/local/lib/python3.11/dist-packages (from requests->keras-tuner) (2025.4.26)\n",
            "Requirement already satisfied: typing-extensions>=4.6.0 in /usr/local/lib/python3.11/dist-packages (from optree->keras->keras-tuner) (4.13.2)\n",
            "Requirement already satisfied: markdown-it-py>=2.2.0 in /usr/local/lib/python3.11/dist-packages (from rich->keras->keras-tuner) (3.0.0)\n",
            "Requirement already satisfied: pygments<3.0.0,>=2.13.0 in /usr/local/lib/python3.11/dist-packages (from rich->keras->keras-tuner) (2.19.1)\n",
            "Requirement already satisfied: mdurl~=0.1 in /usr/local/lib/python3.11/dist-packages (from markdown-it-py>=2.2.0->rich->keras->keras-tuner) (0.1.2)\n"
          ]
        }
      ]
    },
    {
      "cell_type": "code",
      "source": [
        "!pip install imbalanced-learn"
      ],
      "metadata": {
        "colab": {
          "base_uri": "https://localhost:8080/"
        },
        "id": "2yfmaa8_Gvrg",
        "outputId": "8287ffff-9ad9-49de-c855-4ce4ac26a34c"
      },
      "execution_count": 20,
      "outputs": [
        {
          "output_type": "stream",
          "name": "stdout",
          "text": [
            "Requirement already satisfied: imbalanced-learn in /usr/local/lib/python3.11/dist-packages (0.13.0)\n",
            "Requirement already satisfied: numpy<3,>=1.24.3 in /usr/local/lib/python3.11/dist-packages (from imbalanced-learn) (2.0.2)\n",
            "Requirement already satisfied: scipy<2,>=1.10.1 in /usr/local/lib/python3.11/dist-packages (from imbalanced-learn) (1.15.3)\n",
            "Requirement already satisfied: scikit-learn<2,>=1.3.2 in /usr/local/lib/python3.11/dist-packages (from imbalanced-learn) (1.6.1)\n",
            "Requirement already satisfied: sklearn-compat<1,>=0.1 in /usr/local/lib/python3.11/dist-packages (from imbalanced-learn) (0.1.3)\n",
            "Requirement already satisfied: joblib<2,>=1.1.1 in /usr/local/lib/python3.11/dist-packages (from imbalanced-learn) (1.5.1)\n",
            "Requirement already satisfied: threadpoolctl<4,>=2.0.0 in /usr/local/lib/python3.11/dist-packages (from imbalanced-learn) (3.6.0)\n"
          ]
        }
      ]
    },
    {
      "cell_type": "code",
      "execution_count": 21,
      "metadata": {
        "id": "F9tYsgfU-rif"
      },
      "outputs": [],
      "source": [
        "import pandas as pd\n",
        "import numpy as np\n",
        "import matplotlib.pyplot as plt\n",
        "import seaborn as sns\n",
        "\n",
        "from sklearn.model_selection import StratifiedKFold, train_test_split\n",
        "from sklearn.preprocessing import StandardScaler, LabelEncoder, MinMaxScaler,FunctionTransformer\n",
        "from sklearn.pipeline import Pipeline\n",
        "from sklearn.utils import class_weight\n",
        "from sklearn.metrics import accuracy_score, f1_score, classification_report, confusion_matrix\n",
        "from sklearn.decomposition import PCA\n",
        "\n",
        "from imblearn.over_sampling import SMOTE\n",
        "\n",
        "import tensorflow as tf\n",
        "from tensorflow import keras\n",
        "from tensorflow.keras import Input\n",
        "from tensorflow.keras.models import Sequential\n",
        "from tensorflow.keras.losses import categorical_crossentropy\n",
        "from tensorflow.keras.layers import Dense, Dropout, BatchNormalization, LeakyReLU\n",
        "from tensorflow.keras.callbacks import EarlyStopping, ReduceLROnPlateau\n",
        "from tensorflow.keras.utils import to_categorical\n",
        "from tensorflow.keras.regularizers import l2\n",
        "\n",
        "import keras_tuner as kt\n",
        "import pickle\n",
        "import joblib\n",
        "\n",
        "import warnings\n",
        "warnings.filterwarnings('ignore')"
      ]
    },
    {
      "cell_type": "markdown",
      "source": [
        "## Data Loading"
      ],
      "metadata": {
        "id": "_2UlQJkThcD2"
      }
    },
    {
      "cell_type": "markdown",
      "source": [
        "Pada tahapan selanjutnya dilakukan proses data loading, yaitu proses memuat dataset ke dalam lingkungan kerja agar data dapat digunakan dengan lebih mudah pada tahap-tahap berikutnya.\n"
      ],
      "metadata": {
        "id": "uxBGOevKPtyY"
      }
    },
    {
      "cell_type": "code",
      "source": [
        "file_id = '1XRPFF_MUxeXYBQKT86Qp3a_Orje0K95f'\n",
        "url = f'https://drive.google.com/uc?export=download&id={file_id}'\n",
        "\n",
        "df = pd.read_csv(url)\n",
        "df.head()"
      ],
      "metadata": {
        "id": "u9i4u2p70svC",
        "colab": {
          "base_uri": "https://localhost:8080/",
          "height": 224
        },
        "outputId": "630c1de1-41e1-463e-fad4-1701892fa712"
      },
      "execution_count": 22,
      "outputs": [
        {
          "output_type": "execute_result",
          "data": {
            "text/plain": [
              "   Unnamed: 0  Pendapatan Bulanan  Total Pengeluaran  Tabungan  \\\n",
              "0           0             3624413            3139614    197938   \n",
              "1           1             6288582            5605819   1175000   \n",
              "2           2             7056362            5504003   1407490   \n",
              "3           3             1947890            1612226    453842   \n",
              "4           5             2190254            2029233    251592   \n",
              "\n",
              "   Cicilan Per Bulan  Dana Darurat  Total Aset  Total Utang  Target  \n",
              "0             735441        282643    13500000     36036636       0  \n",
              "1             339530        280751     9000000      2376712       1  \n",
              "2             926730        708530     3000000     19461335       0  \n",
              "3             271957        163494     3000000     12510042       0  \n",
              "4             598245        159353    10500000      9571926       0  "
            ],
            "text/html": [
              "\n",
              "  <div id=\"df-906f4247-09fd-4658-a85a-bc99886e1a39\" class=\"colab-df-container\">\n",
              "    <div>\n",
              "<style scoped>\n",
              "    .dataframe tbody tr th:only-of-type {\n",
              "        vertical-align: middle;\n",
              "    }\n",
              "\n",
              "    .dataframe tbody tr th {\n",
              "        vertical-align: top;\n",
              "    }\n",
              "\n",
              "    .dataframe thead th {\n",
              "        text-align: right;\n",
              "    }\n",
              "</style>\n",
              "<table border=\"1\" class=\"dataframe\">\n",
              "  <thead>\n",
              "    <tr style=\"text-align: right;\">\n",
              "      <th></th>\n",
              "      <th>Unnamed: 0</th>\n",
              "      <th>Pendapatan Bulanan</th>\n",
              "      <th>Total Pengeluaran</th>\n",
              "      <th>Tabungan</th>\n",
              "      <th>Cicilan Per Bulan</th>\n",
              "      <th>Dana Darurat</th>\n",
              "      <th>Total Aset</th>\n",
              "      <th>Total Utang</th>\n",
              "      <th>Target</th>\n",
              "    </tr>\n",
              "  </thead>\n",
              "  <tbody>\n",
              "    <tr>\n",
              "      <th>0</th>\n",
              "      <td>0</td>\n",
              "      <td>3624413</td>\n",
              "      <td>3139614</td>\n",
              "      <td>197938</td>\n",
              "      <td>735441</td>\n",
              "      <td>282643</td>\n",
              "      <td>13500000</td>\n",
              "      <td>36036636</td>\n",
              "      <td>0</td>\n",
              "    </tr>\n",
              "    <tr>\n",
              "      <th>1</th>\n",
              "      <td>1</td>\n",
              "      <td>6288582</td>\n",
              "      <td>5605819</td>\n",
              "      <td>1175000</td>\n",
              "      <td>339530</td>\n",
              "      <td>280751</td>\n",
              "      <td>9000000</td>\n",
              "      <td>2376712</td>\n",
              "      <td>1</td>\n",
              "    </tr>\n",
              "    <tr>\n",
              "      <th>2</th>\n",
              "      <td>2</td>\n",
              "      <td>7056362</td>\n",
              "      <td>5504003</td>\n",
              "      <td>1407490</td>\n",
              "      <td>926730</td>\n",
              "      <td>708530</td>\n",
              "      <td>3000000</td>\n",
              "      <td>19461335</td>\n",
              "      <td>0</td>\n",
              "    </tr>\n",
              "    <tr>\n",
              "      <th>3</th>\n",
              "      <td>3</td>\n",
              "      <td>1947890</td>\n",
              "      <td>1612226</td>\n",
              "      <td>453842</td>\n",
              "      <td>271957</td>\n",
              "      <td>163494</td>\n",
              "      <td>3000000</td>\n",
              "      <td>12510042</td>\n",
              "      <td>0</td>\n",
              "    </tr>\n",
              "    <tr>\n",
              "      <th>4</th>\n",
              "      <td>5</td>\n",
              "      <td>2190254</td>\n",
              "      <td>2029233</td>\n",
              "      <td>251592</td>\n",
              "      <td>598245</td>\n",
              "      <td>159353</td>\n",
              "      <td>10500000</td>\n",
              "      <td>9571926</td>\n",
              "      <td>0</td>\n",
              "    </tr>\n",
              "  </tbody>\n",
              "</table>\n",
              "</div>\n",
              "    <div class=\"colab-df-buttons\">\n",
              "\n",
              "  <div class=\"colab-df-container\">\n",
              "    <button class=\"colab-df-convert\" onclick=\"convertToInteractive('df-906f4247-09fd-4658-a85a-bc99886e1a39')\"\n",
              "            title=\"Convert this dataframe to an interactive table.\"\n",
              "            style=\"display:none;\">\n",
              "\n",
              "  <svg xmlns=\"http://www.w3.org/2000/svg\" height=\"24px\" viewBox=\"0 -960 960 960\">\n",
              "    <path d=\"M120-120v-720h720v720H120Zm60-500h600v-160H180v160Zm220 220h160v-160H400v160Zm0 220h160v-160H400v160ZM180-400h160v-160H180v160Zm440 0h160v-160H620v160ZM180-180h160v-160H180v160Zm440 0h160v-160H620v160Z\"/>\n",
              "  </svg>\n",
              "    </button>\n",
              "\n",
              "  <style>\n",
              "    .colab-df-container {\n",
              "      display:flex;\n",
              "      gap: 12px;\n",
              "    }\n",
              "\n",
              "    .colab-df-convert {\n",
              "      background-color: #E8F0FE;\n",
              "      border: none;\n",
              "      border-radius: 50%;\n",
              "      cursor: pointer;\n",
              "      display: none;\n",
              "      fill: #1967D2;\n",
              "      height: 32px;\n",
              "      padding: 0 0 0 0;\n",
              "      width: 32px;\n",
              "    }\n",
              "\n",
              "    .colab-df-convert:hover {\n",
              "      background-color: #E2EBFA;\n",
              "      box-shadow: 0px 1px 2px rgba(60, 64, 67, 0.3), 0px 1px 3px 1px rgba(60, 64, 67, 0.15);\n",
              "      fill: #174EA6;\n",
              "    }\n",
              "\n",
              "    .colab-df-buttons div {\n",
              "      margin-bottom: 4px;\n",
              "    }\n",
              "\n",
              "    [theme=dark] .colab-df-convert {\n",
              "      background-color: #3B4455;\n",
              "      fill: #D2E3FC;\n",
              "    }\n",
              "\n",
              "    [theme=dark] .colab-df-convert:hover {\n",
              "      background-color: #434B5C;\n",
              "      box-shadow: 0px 1px 3px 1px rgba(0, 0, 0, 0.15);\n",
              "      filter: drop-shadow(0px 1px 2px rgba(0, 0, 0, 0.3));\n",
              "      fill: #FFFFFF;\n",
              "    }\n",
              "  </style>\n",
              "\n",
              "    <script>\n",
              "      const buttonEl =\n",
              "        document.querySelector('#df-906f4247-09fd-4658-a85a-bc99886e1a39 button.colab-df-convert');\n",
              "      buttonEl.style.display =\n",
              "        google.colab.kernel.accessAllowed ? 'block' : 'none';\n",
              "\n",
              "      async function convertToInteractive(key) {\n",
              "        const element = document.querySelector('#df-906f4247-09fd-4658-a85a-bc99886e1a39');\n",
              "        const dataTable =\n",
              "          await google.colab.kernel.invokeFunction('convertToInteractive',\n",
              "                                                    [key], {});\n",
              "        if (!dataTable) return;\n",
              "\n",
              "        const docLinkHtml = 'Like what you see? Visit the ' +\n",
              "          '<a target=\"_blank\" href=https://colab.research.google.com/notebooks/data_table.ipynb>data table notebook</a>'\n",
              "          + ' to learn more about interactive tables.';\n",
              "        element.innerHTML = '';\n",
              "        dataTable['output_type'] = 'display_data';\n",
              "        await google.colab.output.renderOutput(dataTable, element);\n",
              "        const docLink = document.createElement('div');\n",
              "        docLink.innerHTML = docLinkHtml;\n",
              "        element.appendChild(docLink);\n",
              "      }\n",
              "    </script>\n",
              "  </div>\n",
              "\n",
              "\n",
              "    <div id=\"df-f074b68f-ae52-4f0d-8ec9-7770f01b4a9e\">\n",
              "      <button class=\"colab-df-quickchart\" onclick=\"quickchart('df-f074b68f-ae52-4f0d-8ec9-7770f01b4a9e')\"\n",
              "                title=\"Suggest charts\"\n",
              "                style=\"display:none;\">\n",
              "\n",
              "<svg xmlns=\"http://www.w3.org/2000/svg\" height=\"24px\"viewBox=\"0 0 24 24\"\n",
              "     width=\"24px\">\n",
              "    <g>\n",
              "        <path d=\"M19 3H5c-1.1 0-2 .9-2 2v14c0 1.1.9 2 2 2h14c1.1 0 2-.9 2-2V5c0-1.1-.9-2-2-2zM9 17H7v-7h2v7zm4 0h-2V7h2v10zm4 0h-2v-4h2v4z\"/>\n",
              "    </g>\n",
              "</svg>\n",
              "      </button>\n",
              "\n",
              "<style>\n",
              "  .colab-df-quickchart {\n",
              "      --bg-color: #E8F0FE;\n",
              "      --fill-color: #1967D2;\n",
              "      --hover-bg-color: #E2EBFA;\n",
              "      --hover-fill-color: #174EA6;\n",
              "      --disabled-fill-color: #AAA;\n",
              "      --disabled-bg-color: #DDD;\n",
              "  }\n",
              "\n",
              "  [theme=dark] .colab-df-quickchart {\n",
              "      --bg-color: #3B4455;\n",
              "      --fill-color: #D2E3FC;\n",
              "      --hover-bg-color: #434B5C;\n",
              "      --hover-fill-color: #FFFFFF;\n",
              "      --disabled-bg-color: #3B4455;\n",
              "      --disabled-fill-color: #666;\n",
              "  }\n",
              "\n",
              "  .colab-df-quickchart {\n",
              "    background-color: var(--bg-color);\n",
              "    border: none;\n",
              "    border-radius: 50%;\n",
              "    cursor: pointer;\n",
              "    display: none;\n",
              "    fill: var(--fill-color);\n",
              "    height: 32px;\n",
              "    padding: 0;\n",
              "    width: 32px;\n",
              "  }\n",
              "\n",
              "  .colab-df-quickchart:hover {\n",
              "    background-color: var(--hover-bg-color);\n",
              "    box-shadow: 0 1px 2px rgba(60, 64, 67, 0.3), 0 1px 3px 1px rgba(60, 64, 67, 0.15);\n",
              "    fill: var(--button-hover-fill-color);\n",
              "  }\n",
              "\n",
              "  .colab-df-quickchart-complete:disabled,\n",
              "  .colab-df-quickchart-complete:disabled:hover {\n",
              "    background-color: var(--disabled-bg-color);\n",
              "    fill: var(--disabled-fill-color);\n",
              "    box-shadow: none;\n",
              "  }\n",
              "\n",
              "  .colab-df-spinner {\n",
              "    border: 2px solid var(--fill-color);\n",
              "    border-color: transparent;\n",
              "    border-bottom-color: var(--fill-color);\n",
              "    animation:\n",
              "      spin 1s steps(1) infinite;\n",
              "  }\n",
              "\n",
              "  @keyframes spin {\n",
              "    0% {\n",
              "      border-color: transparent;\n",
              "      border-bottom-color: var(--fill-color);\n",
              "      border-left-color: var(--fill-color);\n",
              "    }\n",
              "    20% {\n",
              "      border-color: transparent;\n",
              "      border-left-color: var(--fill-color);\n",
              "      border-top-color: var(--fill-color);\n",
              "    }\n",
              "    30% {\n",
              "      border-color: transparent;\n",
              "      border-left-color: var(--fill-color);\n",
              "      border-top-color: var(--fill-color);\n",
              "      border-right-color: var(--fill-color);\n",
              "    }\n",
              "    40% {\n",
              "      border-color: transparent;\n",
              "      border-right-color: var(--fill-color);\n",
              "      border-top-color: var(--fill-color);\n",
              "    }\n",
              "    60% {\n",
              "      border-color: transparent;\n",
              "      border-right-color: var(--fill-color);\n",
              "    }\n",
              "    80% {\n",
              "      border-color: transparent;\n",
              "      border-right-color: var(--fill-color);\n",
              "      border-bottom-color: var(--fill-color);\n",
              "    }\n",
              "    90% {\n",
              "      border-color: transparent;\n",
              "      border-bottom-color: var(--fill-color);\n",
              "    }\n",
              "  }\n",
              "</style>\n",
              "\n",
              "      <script>\n",
              "        async function quickchart(key) {\n",
              "          const quickchartButtonEl =\n",
              "            document.querySelector('#' + key + ' button');\n",
              "          quickchartButtonEl.disabled = true;  // To prevent multiple clicks.\n",
              "          quickchartButtonEl.classList.add('colab-df-spinner');\n",
              "          try {\n",
              "            const charts = await google.colab.kernel.invokeFunction(\n",
              "                'suggestCharts', [key], {});\n",
              "          } catch (error) {\n",
              "            console.error('Error during call to suggestCharts:', error);\n",
              "          }\n",
              "          quickchartButtonEl.classList.remove('colab-df-spinner');\n",
              "          quickchartButtonEl.classList.add('colab-df-quickchart-complete');\n",
              "        }\n",
              "        (() => {\n",
              "          let quickchartButtonEl =\n",
              "            document.querySelector('#df-f074b68f-ae52-4f0d-8ec9-7770f01b4a9e button');\n",
              "          quickchartButtonEl.style.display =\n",
              "            google.colab.kernel.accessAllowed ? 'block' : 'none';\n",
              "        })();\n",
              "      </script>\n",
              "    </div>\n",
              "\n",
              "    </div>\n",
              "  </div>\n"
            ],
            "application/vnd.google.colaboratory.intrinsic+json": {
              "type": "dataframe",
              "variable_name": "df",
              "summary": "{\n  \"name\": \"df\",\n  \"rows\": 16095,\n  \"fields\": [\n    {\n      \"column\": \"Unnamed: 0\",\n      \"properties\": {\n        \"dtype\": \"number\",\n        \"std\": 5786,\n        \"min\": 0,\n        \"max\": 19999,\n        \"num_unique_values\": 16095,\n        \"samples\": [\n          5822,\n          129,\n          14198\n        ],\n        \"semantic_type\": \"\",\n        \"description\": \"\"\n      }\n    },\n    {\n      \"column\": \"Pendapatan Bulanan\",\n      \"properties\": {\n        \"dtype\": \"number\",\n        \"std\": 1961386,\n        \"min\": 1000000,\n        \"max\": 10627881,\n        \"num_unique_values\": 15029,\n        \"samples\": [\n          6249589,\n          5464864,\n          6327080\n        ],\n        \"semantic_type\": \"\",\n        \"description\": \"\"\n      }\n    },\n    {\n      \"column\": \"Total Pengeluaran\",\n      \"properties\": {\n        \"dtype\": \"number\",\n        \"std\": 1442631,\n        \"min\": 709210,\n        \"max\": 8340947,\n        \"num_unique_values\": 16075,\n        \"samples\": [\n          2542735,\n          3362307,\n          4721506\n        ],\n        \"semantic_type\": \"\",\n        \"description\": \"\"\n      }\n    },\n    {\n      \"column\": \"Tabungan\",\n      \"properties\": {\n        \"dtype\": \"number\",\n        \"std\": 400986,\n        \"min\": 50342,\n        \"max\": 1862716,\n        \"num_unique_values\": 15989,\n        \"samples\": [\n          1156238,\n          142228,\n          888872\n        ],\n        \"semantic_type\": \"\",\n        \"description\": \"\"\n      }\n    },\n    {\n      \"column\": \"Cicilan Per Bulan\",\n      \"properties\": {\n        \"dtype\": \"number\",\n        \"std\": 458619,\n        \"min\": 50240,\n        \"max\": 2246380,\n        \"num_unique_values\": 15995,\n        \"samples\": [\n          1898654,\n          307781,\n          1838140\n        ],\n        \"semantic_type\": \"\",\n        \"description\": \"\"\n      }\n    },\n    {\n      \"column\": \"Dana Darurat\",\n      \"properties\": {\n        \"dtype\": \"number\",\n        \"std\": 240843,\n        \"min\": 30026,\n        \"max\": 1106361,\n        \"num_unique_values\": 15912,\n        \"samples\": [\n          653247,\n          588802,\n          200027\n        ],\n        \"semantic_type\": \"\",\n        \"description\": \"\"\n      }\n    },\n    {\n      \"column\": \"Total Aset\",\n      \"properties\": {\n        \"dtype\": \"number\",\n        \"std\": 3437482,\n        \"min\": 3000000,\n        \"max\": 13500000,\n        \"num_unique_values\": 8,\n        \"samples\": [\n          9000000,\n          4500000,\n          13500000\n        ],\n        \"semantic_type\": \"\",\n        \"description\": \"\"\n      }\n    },\n    {\n      \"column\": \"Total Utang\",\n      \"properties\": {\n        \"dtype\": \"number\",\n        \"std\": 17992397,\n        \"min\": 373949,\n        \"max\": 77417596,\n        \"num_unique_values\": 16094,\n        \"samples\": [\n          62841629,\n          11896913,\n          62843184\n        ],\n        \"semantic_type\": \"\",\n        \"description\": \"\"\n      }\n    },\n    {\n      \"column\": \"Target\",\n      \"properties\": {\n        \"dtype\": \"number\",\n        \"std\": 0,\n        \"min\": 0,\n        \"max\": 3,\n        \"num_unique_values\": 4,\n        \"samples\": [\n          1,\n          2,\n          0\n        ],\n        \"semantic_type\": \"\",\n        \"description\": \"\"\n      }\n    }\n  ]\n}"
            }
          },
          "metadata": {},
          "execution_count": 22
        }
      ]
    },
    {
      "cell_type": "markdown",
      "source": [
        "## Pembuatan Pipeline"
      ],
      "metadata": {
        "id": "fyTWgpCEYBKl"
      }
    },
    {
      "cell_type": "markdown",
      "source": [
        "Tahapan selanjutnya adalah membangun pipeline untuk menggabungkan beberapa tahapan preprocessing sebelum dataset masuk ke dalam model ANN"
      ],
      "metadata": {
        "id": "Kw54Qq1YTAgD"
      }
    },
    {
      "cell_type": "markdown",
      "source": [
        "### Drop Fitur Unname"
      ],
      "metadata": {
        "id": "4s0WQjZ5RmO_"
      }
    },
    {
      "cell_type": "code",
      "source": [
        "df_clean = df.drop('Unnamed: 0',axis=1)"
      ],
      "metadata": {
        "id": "Xj6AxL4tZemU"
      },
      "execution_count": 23,
      "outputs": []
    },
    {
      "cell_type": "markdown",
      "source": [
        "Tahap pertama dari pembuatan pipeline adalah melakukan **drop fitur** `Unnamed`, karena fitur ini tidak memiliki informasi penting yang dapat digunakan. Kemudian dataset yang telah dilakukan drop pada fitur `Unnamed` disimpan dalam `df_clean`"
      ],
      "metadata": {
        "id": "JsXwjWHlRtTf"
      }
    },
    {
      "cell_type": "markdown",
      "source": [
        "### Split Dataset"
      ],
      "metadata": {
        "id": "PJjjuCsiRh7g"
      }
    },
    {
      "cell_type": "markdown",
      "source": [
        "Tahapan selanjutnya adalah **split dataset** dilakukan dengan 1.000 data terakhir dari `df_clean` sebagai data testing eksternal, yang nantinya akan digunakan untuk menguji model terbaik setelah training dan evaluasi awal selesai. Data ini disimpan dalam `df_testing.csv` dan tidak digunakan pada training.\n",
        "\n",
        "Kemudian `df_training` digunakan untuk training dan validasi model."
      ],
      "metadata": {
        "id": "y6WuwFLcJlp3"
      }
    },
    {
      "cell_type": "code",
      "source": [
        "df_testing = df_clean.tail(1000)\n",
        "df_testing.to_csv('data_testing.csv')"
      ],
      "metadata": {
        "id": "4xpLSgKeZHLa"
      },
      "execution_count": 24,
      "outputs": []
    },
    {
      "cell_type": "code",
      "source": [
        "df_training = df_clean.iloc[:-1000]\n",
        "df_training"
      ],
      "metadata": {
        "colab": {
          "base_uri": "https://localhost:8080/",
          "height": 424
        },
        "id": "-eZVPzf7ZpZC",
        "outputId": "7856f2d0-e970-433b-b3b1-6c7ac5e4e8aa"
      },
      "execution_count": 25,
      "outputs": [
        {
          "output_type": "execute_result",
          "data": {
            "text/plain": [
              "       Pendapatan Bulanan  Total Pengeluaran  Tabungan  Cicilan Per Bulan  \\\n",
              "0                 3624413            3139614    197938             735441   \n",
              "1                 6288582            5605819   1175000             339530   \n",
              "2                 7056362            5504003   1407490             926730   \n",
              "3                 1947890            1612226    453842             271957   \n",
              "4                 2190254            2029233    251592             598245   \n",
              "...                   ...                ...       ...                ...   \n",
              "15090             6465316            5769611    593128             378691   \n",
              "15091             4921722            4394099    457637            1182782   \n",
              "15092             2443037            2785063    462131             375702   \n",
              "15093             4847939            3882748    699695            1417961   \n",
              "15094             3028524            1903149    752214             652797   \n",
              "\n",
              "       Dana Darurat  Total Aset  Total Utang  Target  \n",
              "0            282643    13500000     36036636       0  \n",
              "1            280751     9000000      2376712       1  \n",
              "2            708530     3000000     19461335       0  \n",
              "3            163494     3000000     12510042       0  \n",
              "4            159353    10500000      9571926       0  \n",
              "...             ...         ...          ...     ...  \n",
              "15090        426871     3000000      8709898       0  \n",
              "15091        287165    12000000     16558960       0  \n",
              "15092        339875     4500000     18033721       0  \n",
              "15093        637988     6000000     56718467       0  \n",
              "15094        406008     9000000     30028676       0  \n",
              "\n",
              "[15095 rows x 8 columns]"
            ],
            "text/html": [
              "\n",
              "  <div id=\"df-d55e0f9b-157b-441a-9657-2dbe7a9c17cb\" class=\"colab-df-container\">\n",
              "    <div>\n",
              "<style scoped>\n",
              "    .dataframe tbody tr th:only-of-type {\n",
              "        vertical-align: middle;\n",
              "    }\n",
              "\n",
              "    .dataframe tbody tr th {\n",
              "        vertical-align: top;\n",
              "    }\n",
              "\n",
              "    .dataframe thead th {\n",
              "        text-align: right;\n",
              "    }\n",
              "</style>\n",
              "<table border=\"1\" class=\"dataframe\">\n",
              "  <thead>\n",
              "    <tr style=\"text-align: right;\">\n",
              "      <th></th>\n",
              "      <th>Pendapatan Bulanan</th>\n",
              "      <th>Total Pengeluaran</th>\n",
              "      <th>Tabungan</th>\n",
              "      <th>Cicilan Per Bulan</th>\n",
              "      <th>Dana Darurat</th>\n",
              "      <th>Total Aset</th>\n",
              "      <th>Total Utang</th>\n",
              "      <th>Target</th>\n",
              "    </tr>\n",
              "  </thead>\n",
              "  <tbody>\n",
              "    <tr>\n",
              "      <th>0</th>\n",
              "      <td>3624413</td>\n",
              "      <td>3139614</td>\n",
              "      <td>197938</td>\n",
              "      <td>735441</td>\n",
              "      <td>282643</td>\n",
              "      <td>13500000</td>\n",
              "      <td>36036636</td>\n",
              "      <td>0</td>\n",
              "    </tr>\n",
              "    <tr>\n",
              "      <th>1</th>\n",
              "      <td>6288582</td>\n",
              "      <td>5605819</td>\n",
              "      <td>1175000</td>\n",
              "      <td>339530</td>\n",
              "      <td>280751</td>\n",
              "      <td>9000000</td>\n",
              "      <td>2376712</td>\n",
              "      <td>1</td>\n",
              "    </tr>\n",
              "    <tr>\n",
              "      <th>2</th>\n",
              "      <td>7056362</td>\n",
              "      <td>5504003</td>\n",
              "      <td>1407490</td>\n",
              "      <td>926730</td>\n",
              "      <td>708530</td>\n",
              "      <td>3000000</td>\n",
              "      <td>19461335</td>\n",
              "      <td>0</td>\n",
              "    </tr>\n",
              "    <tr>\n",
              "      <th>3</th>\n",
              "      <td>1947890</td>\n",
              "      <td>1612226</td>\n",
              "      <td>453842</td>\n",
              "      <td>271957</td>\n",
              "      <td>163494</td>\n",
              "      <td>3000000</td>\n",
              "      <td>12510042</td>\n",
              "      <td>0</td>\n",
              "    </tr>\n",
              "    <tr>\n",
              "      <th>4</th>\n",
              "      <td>2190254</td>\n",
              "      <td>2029233</td>\n",
              "      <td>251592</td>\n",
              "      <td>598245</td>\n",
              "      <td>159353</td>\n",
              "      <td>10500000</td>\n",
              "      <td>9571926</td>\n",
              "      <td>0</td>\n",
              "    </tr>\n",
              "    <tr>\n",
              "      <th>...</th>\n",
              "      <td>...</td>\n",
              "      <td>...</td>\n",
              "      <td>...</td>\n",
              "      <td>...</td>\n",
              "      <td>...</td>\n",
              "      <td>...</td>\n",
              "      <td>...</td>\n",
              "      <td>...</td>\n",
              "    </tr>\n",
              "    <tr>\n",
              "      <th>15090</th>\n",
              "      <td>6465316</td>\n",
              "      <td>5769611</td>\n",
              "      <td>593128</td>\n",
              "      <td>378691</td>\n",
              "      <td>426871</td>\n",
              "      <td>3000000</td>\n",
              "      <td>8709898</td>\n",
              "      <td>0</td>\n",
              "    </tr>\n",
              "    <tr>\n",
              "      <th>15091</th>\n",
              "      <td>4921722</td>\n",
              "      <td>4394099</td>\n",
              "      <td>457637</td>\n",
              "      <td>1182782</td>\n",
              "      <td>287165</td>\n",
              "      <td>12000000</td>\n",
              "      <td>16558960</td>\n",
              "      <td>0</td>\n",
              "    </tr>\n",
              "    <tr>\n",
              "      <th>15092</th>\n",
              "      <td>2443037</td>\n",
              "      <td>2785063</td>\n",
              "      <td>462131</td>\n",
              "      <td>375702</td>\n",
              "      <td>339875</td>\n",
              "      <td>4500000</td>\n",
              "      <td>18033721</td>\n",
              "      <td>0</td>\n",
              "    </tr>\n",
              "    <tr>\n",
              "      <th>15093</th>\n",
              "      <td>4847939</td>\n",
              "      <td>3882748</td>\n",
              "      <td>699695</td>\n",
              "      <td>1417961</td>\n",
              "      <td>637988</td>\n",
              "      <td>6000000</td>\n",
              "      <td>56718467</td>\n",
              "      <td>0</td>\n",
              "    </tr>\n",
              "    <tr>\n",
              "      <th>15094</th>\n",
              "      <td>3028524</td>\n",
              "      <td>1903149</td>\n",
              "      <td>752214</td>\n",
              "      <td>652797</td>\n",
              "      <td>406008</td>\n",
              "      <td>9000000</td>\n",
              "      <td>30028676</td>\n",
              "      <td>0</td>\n",
              "    </tr>\n",
              "  </tbody>\n",
              "</table>\n",
              "<p>15095 rows × 8 columns</p>\n",
              "</div>\n",
              "    <div class=\"colab-df-buttons\">\n",
              "\n",
              "  <div class=\"colab-df-container\">\n",
              "    <button class=\"colab-df-convert\" onclick=\"convertToInteractive('df-d55e0f9b-157b-441a-9657-2dbe7a9c17cb')\"\n",
              "            title=\"Convert this dataframe to an interactive table.\"\n",
              "            style=\"display:none;\">\n",
              "\n",
              "  <svg xmlns=\"http://www.w3.org/2000/svg\" height=\"24px\" viewBox=\"0 -960 960 960\">\n",
              "    <path d=\"M120-120v-720h720v720H120Zm60-500h600v-160H180v160Zm220 220h160v-160H400v160Zm0 220h160v-160H400v160ZM180-400h160v-160H180v160Zm440 0h160v-160H620v160ZM180-180h160v-160H180v160Zm440 0h160v-160H620v160Z\"/>\n",
              "  </svg>\n",
              "    </button>\n",
              "\n",
              "  <style>\n",
              "    .colab-df-container {\n",
              "      display:flex;\n",
              "      gap: 12px;\n",
              "    }\n",
              "\n",
              "    .colab-df-convert {\n",
              "      background-color: #E8F0FE;\n",
              "      border: none;\n",
              "      border-radius: 50%;\n",
              "      cursor: pointer;\n",
              "      display: none;\n",
              "      fill: #1967D2;\n",
              "      height: 32px;\n",
              "      padding: 0 0 0 0;\n",
              "      width: 32px;\n",
              "    }\n",
              "\n",
              "    .colab-df-convert:hover {\n",
              "      background-color: #E2EBFA;\n",
              "      box-shadow: 0px 1px 2px rgba(60, 64, 67, 0.3), 0px 1px 3px 1px rgba(60, 64, 67, 0.15);\n",
              "      fill: #174EA6;\n",
              "    }\n",
              "\n",
              "    .colab-df-buttons div {\n",
              "      margin-bottom: 4px;\n",
              "    }\n",
              "\n",
              "    [theme=dark] .colab-df-convert {\n",
              "      background-color: #3B4455;\n",
              "      fill: #D2E3FC;\n",
              "    }\n",
              "\n",
              "    [theme=dark] .colab-df-convert:hover {\n",
              "      background-color: #434B5C;\n",
              "      box-shadow: 0px 1px 3px 1px rgba(0, 0, 0, 0.15);\n",
              "      filter: drop-shadow(0px 1px 2px rgba(0, 0, 0, 0.3));\n",
              "      fill: #FFFFFF;\n",
              "    }\n",
              "  </style>\n",
              "\n",
              "    <script>\n",
              "      const buttonEl =\n",
              "        document.querySelector('#df-d55e0f9b-157b-441a-9657-2dbe7a9c17cb button.colab-df-convert');\n",
              "      buttonEl.style.display =\n",
              "        google.colab.kernel.accessAllowed ? 'block' : 'none';\n",
              "\n",
              "      async function convertToInteractive(key) {\n",
              "        const element = document.querySelector('#df-d55e0f9b-157b-441a-9657-2dbe7a9c17cb');\n",
              "        const dataTable =\n",
              "          await google.colab.kernel.invokeFunction('convertToInteractive',\n",
              "                                                    [key], {});\n",
              "        if (!dataTable) return;\n",
              "\n",
              "        const docLinkHtml = 'Like what you see? Visit the ' +\n",
              "          '<a target=\"_blank\" href=https://colab.research.google.com/notebooks/data_table.ipynb>data table notebook</a>'\n",
              "          + ' to learn more about interactive tables.';\n",
              "        element.innerHTML = '';\n",
              "        dataTable['output_type'] = 'display_data';\n",
              "        await google.colab.output.renderOutput(dataTable, element);\n",
              "        const docLink = document.createElement('div');\n",
              "        docLink.innerHTML = docLinkHtml;\n",
              "        element.appendChild(docLink);\n",
              "      }\n",
              "    </script>\n",
              "  </div>\n",
              "\n",
              "\n",
              "    <div id=\"df-ab6c6562-30f1-41a0-96dd-b90cf95a5090\">\n",
              "      <button class=\"colab-df-quickchart\" onclick=\"quickchart('df-ab6c6562-30f1-41a0-96dd-b90cf95a5090')\"\n",
              "                title=\"Suggest charts\"\n",
              "                style=\"display:none;\">\n",
              "\n",
              "<svg xmlns=\"http://www.w3.org/2000/svg\" height=\"24px\"viewBox=\"0 0 24 24\"\n",
              "     width=\"24px\">\n",
              "    <g>\n",
              "        <path d=\"M19 3H5c-1.1 0-2 .9-2 2v14c0 1.1.9 2 2 2h14c1.1 0 2-.9 2-2V5c0-1.1-.9-2-2-2zM9 17H7v-7h2v7zm4 0h-2V7h2v10zm4 0h-2v-4h2v4z\"/>\n",
              "    </g>\n",
              "</svg>\n",
              "      </button>\n",
              "\n",
              "<style>\n",
              "  .colab-df-quickchart {\n",
              "      --bg-color: #E8F0FE;\n",
              "      --fill-color: #1967D2;\n",
              "      --hover-bg-color: #E2EBFA;\n",
              "      --hover-fill-color: #174EA6;\n",
              "      --disabled-fill-color: #AAA;\n",
              "      --disabled-bg-color: #DDD;\n",
              "  }\n",
              "\n",
              "  [theme=dark] .colab-df-quickchart {\n",
              "      --bg-color: #3B4455;\n",
              "      --fill-color: #D2E3FC;\n",
              "      --hover-bg-color: #434B5C;\n",
              "      --hover-fill-color: #FFFFFF;\n",
              "      --disabled-bg-color: #3B4455;\n",
              "      --disabled-fill-color: #666;\n",
              "  }\n",
              "\n",
              "  .colab-df-quickchart {\n",
              "    background-color: var(--bg-color);\n",
              "    border: none;\n",
              "    border-radius: 50%;\n",
              "    cursor: pointer;\n",
              "    display: none;\n",
              "    fill: var(--fill-color);\n",
              "    height: 32px;\n",
              "    padding: 0;\n",
              "    width: 32px;\n",
              "  }\n",
              "\n",
              "  .colab-df-quickchart:hover {\n",
              "    background-color: var(--hover-bg-color);\n",
              "    box-shadow: 0 1px 2px rgba(60, 64, 67, 0.3), 0 1px 3px 1px rgba(60, 64, 67, 0.15);\n",
              "    fill: var(--button-hover-fill-color);\n",
              "  }\n",
              "\n",
              "  .colab-df-quickchart-complete:disabled,\n",
              "  .colab-df-quickchart-complete:disabled:hover {\n",
              "    background-color: var(--disabled-bg-color);\n",
              "    fill: var(--disabled-fill-color);\n",
              "    box-shadow: none;\n",
              "  }\n",
              "\n",
              "  .colab-df-spinner {\n",
              "    border: 2px solid var(--fill-color);\n",
              "    border-color: transparent;\n",
              "    border-bottom-color: var(--fill-color);\n",
              "    animation:\n",
              "      spin 1s steps(1) infinite;\n",
              "  }\n",
              "\n",
              "  @keyframes spin {\n",
              "    0% {\n",
              "      border-color: transparent;\n",
              "      border-bottom-color: var(--fill-color);\n",
              "      border-left-color: var(--fill-color);\n",
              "    }\n",
              "    20% {\n",
              "      border-color: transparent;\n",
              "      border-left-color: var(--fill-color);\n",
              "      border-top-color: var(--fill-color);\n",
              "    }\n",
              "    30% {\n",
              "      border-color: transparent;\n",
              "      border-left-color: var(--fill-color);\n",
              "      border-top-color: var(--fill-color);\n",
              "      border-right-color: var(--fill-color);\n",
              "    }\n",
              "    40% {\n",
              "      border-color: transparent;\n",
              "      border-right-color: var(--fill-color);\n",
              "      border-top-color: var(--fill-color);\n",
              "    }\n",
              "    60% {\n",
              "      border-color: transparent;\n",
              "      border-right-color: var(--fill-color);\n",
              "    }\n",
              "    80% {\n",
              "      border-color: transparent;\n",
              "      border-right-color: var(--fill-color);\n",
              "      border-bottom-color: var(--fill-color);\n",
              "    }\n",
              "    90% {\n",
              "      border-color: transparent;\n",
              "      border-bottom-color: var(--fill-color);\n",
              "    }\n",
              "  }\n",
              "</style>\n",
              "\n",
              "      <script>\n",
              "        async function quickchart(key) {\n",
              "          const quickchartButtonEl =\n",
              "            document.querySelector('#' + key + ' button');\n",
              "          quickchartButtonEl.disabled = true;  // To prevent multiple clicks.\n",
              "          quickchartButtonEl.classList.add('colab-df-spinner');\n",
              "          try {\n",
              "            const charts = await google.colab.kernel.invokeFunction(\n",
              "                'suggestCharts', [key], {});\n",
              "          } catch (error) {\n",
              "            console.error('Error during call to suggestCharts:', error);\n",
              "          }\n",
              "          quickchartButtonEl.classList.remove('colab-df-spinner');\n",
              "          quickchartButtonEl.classList.add('colab-df-quickchart-complete');\n",
              "        }\n",
              "        (() => {\n",
              "          let quickchartButtonEl =\n",
              "            document.querySelector('#df-ab6c6562-30f1-41a0-96dd-b90cf95a5090 button');\n",
              "          quickchartButtonEl.style.display =\n",
              "            google.colab.kernel.accessAllowed ? 'block' : 'none';\n",
              "        })();\n",
              "      </script>\n",
              "    </div>\n",
              "\n",
              "  <div id=\"id_053e87dd-48e5-449a-bf22-97fb1fc4556c\">\n",
              "    <style>\n",
              "      .colab-df-generate {\n",
              "        background-color: #E8F0FE;\n",
              "        border: none;\n",
              "        border-radius: 50%;\n",
              "        cursor: pointer;\n",
              "        display: none;\n",
              "        fill: #1967D2;\n",
              "        height: 32px;\n",
              "        padding: 0 0 0 0;\n",
              "        width: 32px;\n",
              "      }\n",
              "\n",
              "      .colab-df-generate:hover {\n",
              "        background-color: #E2EBFA;\n",
              "        box-shadow: 0px 1px 2px rgba(60, 64, 67, 0.3), 0px 1px 3px 1px rgba(60, 64, 67, 0.15);\n",
              "        fill: #174EA6;\n",
              "      }\n",
              "\n",
              "      [theme=dark] .colab-df-generate {\n",
              "        background-color: #3B4455;\n",
              "        fill: #D2E3FC;\n",
              "      }\n",
              "\n",
              "      [theme=dark] .colab-df-generate:hover {\n",
              "        background-color: #434B5C;\n",
              "        box-shadow: 0px 1px 3px 1px rgba(0, 0, 0, 0.15);\n",
              "        filter: drop-shadow(0px 1px 2px rgba(0, 0, 0, 0.3));\n",
              "        fill: #FFFFFF;\n",
              "      }\n",
              "    </style>\n",
              "    <button class=\"colab-df-generate\" onclick=\"generateWithVariable('df_training')\"\n",
              "            title=\"Generate code using this dataframe.\"\n",
              "            style=\"display:none;\">\n",
              "\n",
              "  <svg xmlns=\"http://www.w3.org/2000/svg\" height=\"24px\"viewBox=\"0 0 24 24\"\n",
              "       width=\"24px\">\n",
              "    <path d=\"M7,19H8.4L18.45,9,17,7.55,7,17.6ZM5,21V16.75L18.45,3.32a2,2,0,0,1,2.83,0l1.4,1.43a1.91,1.91,0,0,1,.58,1.4,1.91,1.91,0,0,1-.58,1.4L9.25,21ZM18.45,9,17,7.55Zm-12,3A5.31,5.31,0,0,0,4.9,8.1,5.31,5.31,0,0,0,1,6.5,5.31,5.31,0,0,0,4.9,4.9,5.31,5.31,0,0,0,6.5,1,5.31,5.31,0,0,0,8.1,4.9,5.31,5.31,0,0,0,12,6.5,5.46,5.46,0,0,0,6.5,12Z\"/>\n",
              "  </svg>\n",
              "    </button>\n",
              "    <script>\n",
              "      (() => {\n",
              "      const buttonEl =\n",
              "        document.querySelector('#id_053e87dd-48e5-449a-bf22-97fb1fc4556c button.colab-df-generate');\n",
              "      buttonEl.style.display =\n",
              "        google.colab.kernel.accessAllowed ? 'block' : 'none';\n",
              "\n",
              "      buttonEl.onclick = () => {\n",
              "        google.colab.notebook.generateWithVariable('df_training');\n",
              "      }\n",
              "      })();\n",
              "    </script>\n",
              "  </div>\n",
              "\n",
              "    </div>\n",
              "  </div>\n"
            ],
            "application/vnd.google.colaboratory.intrinsic+json": {
              "type": "dataframe",
              "variable_name": "df_training",
              "summary": "{\n  \"name\": \"df_training\",\n  \"rows\": 15095,\n  \"fields\": [\n    {\n      \"column\": \"Pendapatan Bulanan\",\n      \"properties\": {\n        \"dtype\": \"number\",\n        \"std\": 1960222,\n        \"min\": 1000000,\n        \"max\": 10627881,\n        \"num_unique_values\": 14100,\n        \"samples\": [\n          6785264,\n          1805355,\n          6987347\n        ],\n        \"semantic_type\": \"\",\n        \"description\": \"\"\n      }\n    },\n    {\n      \"column\": \"Total Pengeluaran\",\n      \"properties\": {\n        \"dtype\": \"number\",\n        \"std\": 1443390,\n        \"min\": 709210,\n        \"max\": 8340947,\n        \"num_unique_values\": 15079,\n        \"samples\": [\n          2606862,\n          3744043,\n          3141885\n        ],\n        \"semantic_type\": \"\",\n        \"description\": \"\"\n      }\n    },\n    {\n      \"column\": \"Tabungan\",\n      \"properties\": {\n        \"dtype\": \"number\",\n        \"std\": 401153,\n        \"min\": 50342,\n        \"max\": 1862716,\n        \"num_unique_values\": 14998,\n        \"samples\": [\n          267057,\n          1236831,\n          292955\n        ],\n        \"semantic_type\": \"\",\n        \"description\": \"\"\n      }\n    },\n    {\n      \"column\": \"Cicilan Per Bulan\",\n      \"properties\": {\n        \"dtype\": \"number\",\n        \"std\": 458680,\n        \"min\": 50240,\n        \"max\": 2243911,\n        \"num_unique_values\": 15003,\n        \"samples\": [\n          730913,\n          81892,\n          654245\n        ],\n        \"semantic_type\": \"\",\n        \"description\": \"\"\n      }\n    },\n    {\n      \"column\": \"Dana Darurat\",\n      \"properties\": {\n        \"dtype\": \"number\",\n        \"std\": 240745,\n        \"min\": 30026,\n        \"max\": 1106361,\n        \"num_unique_values\": 14939,\n        \"samples\": [\n          404536,\n          140807,\n          377986\n        ],\n        \"semantic_type\": \"\",\n        \"description\": \"\"\n      }\n    },\n    {\n      \"column\": \"Total Aset\",\n      \"properties\": {\n        \"dtype\": \"number\",\n        \"std\": 3437787,\n        \"min\": 3000000,\n        \"max\": 13500000,\n        \"num_unique_values\": 8,\n        \"samples\": [\n          9000000,\n          4500000,\n          13500000\n        ],\n        \"semantic_type\": \"\",\n        \"description\": \"\"\n      }\n    },\n    {\n      \"column\": \"Total Utang\",\n      \"properties\": {\n        \"dtype\": \"number\",\n        \"std\": 18039168,\n        \"min\": 373949,\n        \"max\": 77417596,\n        \"num_unique_values\": 15094,\n        \"samples\": [\n          8140992,\n          5849229,\n          21212836\n        ],\n        \"semantic_type\": \"\",\n        \"description\": \"\"\n      }\n    },\n    {\n      \"column\": \"Target\",\n      \"properties\": {\n        \"dtype\": \"number\",\n        \"std\": 0,\n        \"min\": 0,\n        \"max\": 3,\n        \"num_unique_values\": 4,\n        \"samples\": [\n          1,\n          2,\n          0\n        ],\n        \"semantic_type\": \"\",\n        \"description\": \"\"\n      }\n    }\n  ]\n}"
            }
          },
          "metadata": {},
          "execution_count": 25
        }
      ]
    },
    {
      "cell_type": "markdown",
      "source": [
        "### Pembuatan Fungsi Untuk Pipeline Ratio"
      ],
      "metadata": {
        "id": "EIUAcsGSaPro"
      }
    },
    {
      "cell_type": "markdown",
      "source": [
        "Langkah ini merupakan pembuatan fungsi untuk menghitung rasio keuangan dan penerapannya dalam pipeline preprocessing untuk menghasilkan fitur rasio finansial, lalu menormalkannya agar siap digunakan dalam model klasifikasi"
      ],
      "metadata": {
        "id": "mlgf5_klSSDU"
      }
    },
    {
      "cell_type": "code",
      "source": [
        "def compute_ratio(col):\n",
        "    epsilon = 1e-6\n",
        "    pendapatan_bulanan = col[:,0]\n",
        "    total_pengeluaran = col[:,1]\n",
        "    tabungan = col[:,2]\n",
        "    cicilan_perbulan = col[:,3]\n",
        "    dana_darurat = col[:,4]\n",
        "    total_aset = col[:,5]\n",
        "    total_utang = col[:,6]\n",
        "\n",
        "    ExpenseToIncomeRatio = total_pengeluaran / (pendapatan_bulanan + epsilon)\n",
        "    SavingToIncomeRatio = tabungan / (pendapatan_bulanan + epsilon)\n",
        "    DebtToIncomeRatio = cicilan_perbulan / (pendapatan_bulanan + epsilon)\n",
        "    EmergencyFundRatio = dana_darurat / (total_pengeluaran + epsilon)\n",
        "    AssetToDebtRatio = total_aset / (total_utang + epsilon)\n",
        "    DebtToAssetRatio = total_utang / (total_aset + epsilon)\n",
        "\n",
        "    return np.stack([\n",
        "        ExpenseToIncomeRatio,\n",
        "        SavingToIncomeRatio,\n",
        "        DebtToIncomeRatio,\n",
        "        EmergencyFundRatio,\n",
        "        AssetToDebtRatio,\n",
        "        DebtToAssetRatio\n",
        "    ], axis=1)\n",
        "\n",
        "\n",
        "preprocessing_pipeline = Pipeline([\n",
        "    (\"ratio_calc\", FunctionTransformer(compute_ratio)),\n",
        "    (\"scaler\", MinMaxScaler())\n",
        "])\n",
        "\n"
      ],
      "metadata": {
        "id": "gYAXKysCaT36"
      },
      "execution_count": 26,
      "outputs": []
    },
    {
      "cell_type": "markdown",
      "source": [
        "## Exploratory Data Analysis (EDA)"
      ],
      "metadata": {
        "id": "qAKPK53g1U3c"
      }
    },
    {
      "cell_type": "markdown",
      "source": [
        "Tahapan selanjutnya adalah exploratory Data Analysis (EDA) untuk memahami struktur, pola, dan karakteristik data sebelum dilakukan pemodelan atau analisis lebih lanjut."
      ],
      "metadata": {
        "id": "TffLVtxBVNXg"
      }
    },
    {
      "cell_type": "markdown",
      "source": [
        "### Barplot untuk melihat distribusi masing-masing kelas"
      ],
      "metadata": {
        "id": "i3b8Nno4brhz"
      }
    },
    {
      "cell_type": "code",
      "source": [
        "plt.figure(figsize=(6,4))\n",
        "ax = sns.countplot(x='Target', data=df_clean)\n",
        "plt.title(\"Distribusi Target Kelas (Cluster)\")\n",
        "\n",
        "for container in ax.containers:\n",
        "    ax.bar_label(container, fmt='%d', label_type='edge', padding=3)\n",
        "\n",
        "plt.tight_layout()\n",
        "plt.show()"
      ],
      "metadata": {
        "colab": {
          "base_uri": "https://localhost:8080/",
          "height": 407
        },
        "id": "rJxyMAftA1nW",
        "outputId": "89cb7327-4773-4909-8a59-aa52560974de"
      },
      "execution_count": 27,
      "outputs": [
        {
          "output_type": "display_data",
          "data": {
            "text/plain": [
              "<Figure size 600x400 with 1 Axes>"
            ],
            "image/png": "[encoded data removed]"
          },
          "metadata": {}
        }
      ]
    },
    {
      "cell_type": "markdown",
      "source": [
        "# **2. Data Preparation**"
      ],
      "metadata": {
        "id": "HPuTlxMYuITh"
      }
    },
    {
      "cell_type": "markdown",
      "source": [
        "**Insight**\n",
        "\n",
        "Dapat dilihat bahwa persebaran data tidak seimbang (imbalanced) dengan data pada kelas 0 merupakan kelas dengan data terbanyak yakni sebanyak  12880 data dan data pada kelas 2 merupakan kelas dengan data tersedikit yakni hanya sebnayak 168 data.\n",
        "\n",
        "Ketidakseimbangan dapat menimbulkan biar pada model klasifikasi. Sehingga perlu dilakukan penanganan"
      ],
      "metadata": {
        "id": "L07BrpfCb3tB"
      }
    },
    {
      "cell_type": "markdown",
      "source": [
        "Tahapan selanjutnya adalah data preparation, yakni proses menyiapkan dataset agar siap digunakan untuk analisis dan pemodelan.\n",
        "\n",
        "Berdasarkan hasil EDA diketahui bahwa dataset yang digunakan terjadi imbalance sehingga akan dilakukan penanganan"
      ],
      "metadata": {
        "id": "44FvmcaidRx2"
      }
    },
    {
      "cell_type": "markdown",
      "source": [
        "### Pemisahan Data Fitur Dan Target"
      ],
      "metadata": {
        "id": "9haA4pebpvVu"
      }
    },
    {
      "cell_type": "markdown",
      "source": [
        "Tahapan pertama dari data preprocessing adalah mengambil fitur-fitur numerik utama dari dataset `df` dan menyimapnanya sebagai array NumPy kemudian disimpan dalam `X_raw`\n",
        "\n",
        "Menyimpan label atau traget klasfikasi dalam `y`"
      ],
      "metadata": {
        "id": "fYqO6mYEpMxb"
      }
    },
    {
      "cell_type": "code",
      "source": [
        "X_raw = df[[\n",
        "    'Pendapatan Bulanan', 'Total Pengeluaran', 'Tabungan',\n",
        "    'Cicilan Per Bulan', 'Dana Darurat', 'Total Aset', 'Total Utang']].values\n",
        "y = df['Target'].values"
      ],
      "metadata": {
        "id": "Z9S9Mz6g2hU8"
      },
      "execution_count": 28,
      "outputs": []
    },
    {
      "cell_type": "markdown",
      "source": [
        "### Transformasi Fitur"
      ],
      "metadata": {
        "id": "oWeZLkBup-eh"
      }
    },
    {
      "cell_type": "markdown",
      "source": [
        "Tahapan akhir dari data preprocessing yakni melakukan transormasi data dengan menghitung rasio-rasio finansial yang telah didefinisikan sebelumnya, dan menormalisasi hasilnya."
      ],
      "metadata": {
        "id": "iA3yKKgbplpp"
      }
    },
    {
      "cell_type": "code",
      "source": [
        "preprocessing_pipeline = Pipeline([\n",
        "    (\"ratio_calc\", FunctionTransformer(compute_ratio)),\n",
        "    (\"scaler\", MinMaxScaler())\n",
        "])"
      ],
      "metadata": {
        "id": "Qo_rWyU3xlXv"
      },
      "execution_count": 29,
      "outputs": []
    },
    {
      "cell_type": "markdown",
      "source": [
        "# **3. Klasifikasi**"
      ],
      "metadata": {
        "id": "9zdKthEiHUxk"
      }
    },
    {
      "cell_type": "markdown",
      "source": [
        "### Modeling"
      ],
      "metadata": {
        "id": "JGdLh6OFyasW"
      }
    },
    {
      "cell_type": "markdown",
      "source": [
        "**Model Artificial Neural Network (ANN) untuk klasifikasi multi-jelas.**\n",
        "\n",
        "Pada tahapan ini akan dibangun model ANN secara berurutan (Sequential) dimulai dari layer `input`, `dense layer` dan `aktivasi ReLU`, kemudian digunakan `batch normalization` untuk menstabilkan pembelajaran, serta `dropout` untuk mencegah overfitting. Layer output menggunakan aktivasi softmax agar dapat menghasilkan probabilitas untuk masing-masing kelas. Model dikompilasi dengan optimizer `Adam`, fungsi loss `categorical_crossentropy` (karena klasifikasinya multi-kelas)"
      ],
      "metadata": {
        "id": "oBkxzMTxqTkz"
      }
    },
    {
      "cell_type": "code",
      "source": [
        "def build_model(input_dim, output_dim):\n",
        "    model = Sequential([\n",
        "        Input(shape=(input_dim,)),\n",
        "        Dense(64, activation='relu'),\n",
        "        BatchNormalization(),\n",
        "        Dropout(0.3),\n",
        "        Dense(output_dim, activation='softmax')\n",
        "    ])\n",
        "    model.compile(\n",
        "        optimizer='adam',\n",
        "        loss='categorical_crossentropy',\n",
        "        metrics=['accuracy']\n",
        "    )\n",
        "    return model"
      ],
      "metadata": {
        "id": "FH5_Mej51hXg"
      },
      "execution_count": 30,
      "outputs": []
    },
    {
      "cell_type": "markdown",
      "source": [
        "### Training K-Fold"
      ],
      "metadata": {
        "id": "RiFVol6kdJj5"
      }
    },
    {
      "cell_type": "markdown",
      "source": [
        "Tahapan selanjutnya setelah membuat model ANN adalah melatih model klasifikasi ANN menggunakan teknik validasi silang Stratified K-Fold sebanyak 5 fold.\n",
        "\n",
        "Tujuannya adalah mengevaluasi performa model secara menyeluruh dengan membagi data menjadi beberapa subset agar tiap kelas tetap seimbang di setiap fold.\n",
        "\n",
        "Pada setiap iterasi, data dilatih dan divalidasi menggunakan pipeline preprocessing, model dibangun dan dilatih, lalu dievaluasi dengan metrik akurasi dan f1-score.\n",
        "\n",
        "Output dari proses ini berupa daftar hasil performa tiap fold (fold_results), model terbaik dari tiap fold (best_models), dan riwayat pelatihan (all_histories), serta visualisasi confusion matrix dan classification report per fold."
      ],
      "metadata": {
        "id": "Wmee5wkRrNNR"
      }
    },
    {
      "cell_type": "code",
      "execution_count": null,
      "metadata": {
        "id": "7e9vGspb-rii",
        "colab": {
          "base_uri": "https://localhost:8080/"
        },
        "outputId": "bee659d0-a22a-49be-fdc0-eb8eed1b462f"
      },
      "outputs": [
        {
          "output_type": "stream",
          "name": "stdout",
          "text": [
            "\n",
            "=== Fold 1 ===\n",
            "Epoch 1/30\n",
            "\u001b[1m51/51\u001b[0m \u001b[32m━━━━━━━━━━━━━━━━━━━━\u001b[0m\u001b[37m\u001b[0m \u001b[1m8s\u001b[0m 103ms/step - accuracy: 0.3530 - loss: 1.3774 - val_accuracy: 0.8012 - val_loss: 0.9750 - learning_rate: 0.0010\n",
            "Epoch 2/30\n",
            "\u001b[1m51/51\u001b[0m \u001b[32m━━━━━━━━━━━━━━━━━━━━\u001b[0m\u001b[37m\u001b[0m \u001b[1m1s\u001b[0m 11ms/step - accuracy: 0.7674 - loss: 0.7550 - val_accuracy: 0.8002 - val_loss: 0.6949 - learning_rate: 0.0010\n",
            "Epoch 3/30\n",
            "\u001b[1m51/51\u001b[0m \u001b[32m━━━━━━━━━━━━━━━━━━━━\u001b[0m\u001b[37m\u001b[0m \u001b[1m1s\u001b[0m 16ms/step - accuracy: 0.9020 - loss: 0.4090 - val_accuracy: 0.8006 - val_loss: 0.5850 - learning_rate: 0.0010\n",
            "Epoch 4/30\n",
            "\u001b[1m51/51\u001b[0m \u001b[32m━━━━━━━━━━━━━━━━━━━━\u001b[0m\u001b[37m\u001b[0m \u001b[1m1s\u001b[0m 15ms/step - accuracy: 0.9222 - loss: 0.2720 - val_accuracy: 0.8027 - val_loss: 0.5498 - learning_rate: 0.0010\n",
            "Epoch 5/30\n",
            "\u001b[1m51/51\u001b[0m \u001b[32m━━━━━━━━━━━━━━━━━━━━\u001b[0m\u001b[37m\u001b[0m \u001b[1m1s\u001b[0m 14ms/step - accuracy: 0.9379 - loss: 0.2052 - val_accuracy: 0.8083 - val_loss: 0.5103 - learning_rate: 0.0010\n",
            "Epoch 6/30\n",
            "\u001b[1m51/51\u001b[0m \u001b[32m━━━━━━━━━━━━━━━━━━━━\u001b[0m\u001b[37m\u001b[0m \u001b[1m0s\u001b[0m 8ms/step - accuracy: 0.9466 - loss: 0.1633 - val_accuracy: 0.8192 - val_loss: 0.4399 - learning_rate: 0.0010\n",
            "Epoch 7/30\n",
            "\u001b[1m51/51\u001b[0m \u001b[32m━━━━━━━━━━━━━━━━━━━━\u001b[0m\u001b[37m\u001b[0m \u001b[1m1s\u001b[0m 10ms/step - accuracy: 0.9573 - loss: 0.1360 - val_accuracy: 0.8341 - val_loss: 0.3891 - learning_rate: 0.0010\n",
            "Epoch 8/30\n",
            "\u001b[1m51/51\u001b[0m \u001b[32m━━━━━━━━━━━━━━━━━━━━\u001b[0m\u001b[37m\u001b[0m \u001b[1m1s\u001b[0m 11ms/step - accuracy: 0.9582 - loss: 0.1262 - val_accuracy: 0.8642 - val_loss: 0.3106 - learning_rate: 0.0010\n",
            "Epoch 9/30\n",
            "\u001b[1m51/51\u001b[0m \u001b[32m━━━━━━━━━━━━━━━━━━━━\u001b[0m\u001b[37m\u001b[0m \u001b[1m1s\u001b[0m 8ms/step - accuracy: 0.9687 - loss: 0.1055 - val_accuracy: 0.8866 - val_loss: 0.2534 - learning_rate: 0.0010\n",
            "Epoch 10/30\n",
            "\u001b[1m51/51\u001b[0m \u001b[32m━━━━━━━━━━━━━━━━━━━━\u001b[0m\u001b[37m\u001b[0m \u001b[1m1s\u001b[0m 12ms/step - accuracy: 0.9669 - loss: 0.0971 - val_accuracy: 0.9118 - val_loss: 0.1893 - learning_rate: 0.0010\n",
            "Epoch 11/30\n",
            "\u001b[1m51/51\u001b[0m \u001b[32m━━━━━━━━━━━━━━━━━━━━\u001b[0m\u001b[37m\u001b[0m \u001b[1m1s\u001b[0m 13ms/step - accuracy: 0.9682 - loss: 0.0907 - val_accuracy: 0.9298 - val_loss: 0.1535 - learning_rate: 0.0010\n",
            "Epoch 12/30\n",
            "\u001b[1m51/51\u001b[0m \u001b[32m━━━━━━━━━━━━━━━━━━━━\u001b[0m\u001b[37m\u001b[0m \u001b[1m1s\u001b[0m 15ms/step - accuracy: 0.9659 - loss: 0.0917 - val_accuracy: 0.9506 - val_loss: 0.1055 - learning_rate: 0.0010\n",
            "Epoch 13/30\n",
            "\u001b[1m51/51\u001b[0m \u001b[32m━━━━━━━━━━━━━━━━━━━━\u001b[0m\u001b[37m\u001b[0m \u001b[1m1s\u001b[0m 10ms/step - accuracy: 0.9712 - loss: 0.0817 - val_accuracy: 0.9711 - val_loss: 0.0777 - learning_rate: 0.0010\n",
            "Epoch 14/30\n",
            "\u001b[1m20/51\u001b[0m \u001b[32m━━━━━━━\u001b[0m\u001b[37m━━━━━━━━━━━━━\u001b[0m \u001b[1m0s\u001b[0m 14ms/step - accuracy: 0.9761 - loss: 0.0691"
          ]
        }
      ],
      "source": [
        "le = LabelEncoder()\n",
        "y_int = le.fit_transform(y)\n",
        "\n",
        "fold_results = []\n",
        "best_models = []\n",
        "all_histories = []\n",
        "\n",
        "fold_no = 1\n",
        "\n",
        "skf = StratifiedKFold(n_splits=5, shuffle=True, random_state=42)\n",
        "\n",
        "for train_idx, val_idx in skf.split(X_raw, y_int):\n",
        "    print(f\"\\n=== Fold {fold_no} ===\")\n",
        "\n",
        "    X_train_df, X_val_df = X_raw[train_idx], X_raw[val_idx]\n",
        "    y_train_int, y_val_int = y_int[train_idx], y_int[val_idx]\n",
        "\n",
        "    X_train_processed = preprocessing_pipeline.fit_transform(X_train_df)\n",
        "    X_val_processed = preprocessing_pipeline.transform(X_val_df)\n",
        "\n",
        "    model = build_model(X_train_processed.shape[1], len(le.classes_))\n",
        "\n",
        "    y_train_one_hot = to_categorical(y_train_int, num_classes=len(le.classes_))\n",
        "    y_val_one_hot = to_categorical(y_val_int, num_classes=len(le.classes_))\n",
        "\n",
        "\n",
        "    history = model.fit(\n",
        "        X_train_processed, y_train_one_hot,\n",
        "        epochs=30,\n",
        "        batch_size=256,\n",
        "        validation_data=(X_val_processed, y_val_one_hot),\n",
        "\n",
        "        callbacks=[\n",
        "            EarlyStopping(patience=3, restore_best_weights=True),\n",
        "            ReduceLROnPlateau(monitor='val_loss', factor=0.5, patience=2)\n",
        "        ],\n",
        "        verbose=1\n",
        "    )\n",
        "\n",
        "    all_histories.append(history)\n",
        "\n",
        "    y_pred = model.predict(X_val_processed)\n",
        "    y_pred_classes = np.argmax(y_pred, axis=1)\n",
        "\n",
        "    best_models.append(model)\n",
        "\n",
        "    print(\"Classification Report:\")\n",
        "    target_names_str = [str(cls) for cls in le.classes_]\n",
        "    print(classification_report(y_val_int, y_pred_classes, target_names=target_names_str))\n",
        "\n",
        "    print(\"Confusion Matrix:\")\n",
        "    sns.heatmap(confusion_matrix(y_val_int, y_pred_classes), annot=True, fmt='d')\n",
        "    plt.xlabel('Predicted')\n",
        "    plt.ylabel('Actual')\n",
        "    plt.title(f'Confusion Matrix Fold {fold_no}')\n",
        "    plt.show()\n",
        "\n",
        "    acc = accuracy_score(y_val_int, y_pred_classes)\n",
        "    f1 = f1_score(y_val_int, y_pred_classes, average='weighted')\n",
        "    fold_results.append({\n",
        "        'fold': fold_no,\n",
        "        'accuracy': acc,\n",
        "        'f1_score': f1\n",
        "    })\n",
        "\n",
        "    fold_no += 1"
      ]
    },
    {
      "cell_type": "markdown",
      "source": [
        "### Evaluasi Model"
      ],
      "metadata": {
        "id": "j-8ru0t9sFQf"
      }
    },
    {
      "cell_type": "markdown",
      "source": [
        "Tahapan selanjutnya setelah dilakukan modeling, tahapan selanjutnya adalah melakukaan evaluasi model ANN.\n",
        "\n",
        "Dilakukan analisis performa model dari seluurh fold pada proses K-Fold sebelumnya. Hasil akurasi dan f1-score dari setiap fold disimpan dalam `result_df` untuk ditampilkan.\n",
        "\n",
        "Fold dengan performa terbaik (berdasarkan f1-score tertinggi) akan ditampilkan informasinya. Kemudian, visualisasi akurasi dan loss dari fold terbaik tersebut ditampilkan untuk memahami dinamika pelatihan model"
      ],
      "metadata": {
        "id": "ZZj26fT8sV0N"
      }
    },
    {
      "cell_type": "code",
      "source": [
        "results_df = pd.DataFrame(fold_results)\n",
        "print(\"\\n=== Ringkasan Hasil per Fold ===\")\n",
        "print(results_df)\n",
        "\n",
        "best_idx = results_df['f1_score'].idxmax()\n",
        "best_fold = results_df.loc[best_idx]\n",
        "print(f\"\\nFold terbaik: Fold {best_fold['fold']} dengan F1-score: {best_fold['f1_score']:.4f}\")\n",
        "\n",
        "best_history = all_histories[best_idx]\n",
        "\n",
        "plt.figure(figsize=(12,4))\n",
        "\n",
        "plt.subplot(1,2,1)\n",
        "plt.plot(best_history.history['accuracy'], label='Train Acc')\n",
        "plt.plot(best_history.history['val_accuracy'], label='Val Acc')\n",
        "plt.title(f'Best Fold {int(best_fold[\"fold\"])} Accuracy')\n",
        "plt.xlabel('Epoch')\n",
        "plt.ylabel('Accuracy')\n",
        "plt.legend()\n",
        "\n",
        "plt.subplot(1,2,2)\n",
        "plt.plot(best_history.history['loss'], label='Train Loss')\n",
        "plt.plot(best_history.history['val_loss'], label='Val Loss')\n",
        "plt.title(f'Best Fold {int(best_fold[\"fold\"])} Loss')\n",
        "plt.xlabel('Epoch')\n",
        "plt.ylabel('Loss')\n",
        "plt.legend()\n",
        "\n",
        "plt.tight_layout()\n",
        "plt.show()"
      ],
      "metadata": {
        "id": "rmNCt_qWLGie"
      },
      "execution_count": null,
      "outputs": []
    },
    {
      "cell_type": "markdown",
      "source": [
        "**Insight**\n",
        "\n",
        "Diperoleh fold terbaik yakni pada fold ke-1 dengan F1-score sebesar 0.9934. Berdasarkan grafik akurasi dan loss dari fold terbaik (fold ke-1) diperoleh bahwa model belajar dengan baik tanpa overfitting karena terlihat bahwa akurasi pada data pelatihan dan validasi meningkat seiring bertambahnya epoch, lalu mendatar mendekati konvergensi dan loss menurun drastis di awal pelatihan dan stabil di nilai rendah"
      ],
      "metadata": {
        "id": "4mostD7jtOB4"
      }
    },
    {
      "cell_type": "markdown",
      "source": [
        "# **4. Convert Model**"
      ],
      "metadata": {
        "id": "6BJZRQIXdwsQ"
      }
    },
    {
      "cell_type": "markdown",
      "source": [
        "Setelah membangun model ANN terbaik berhasil dilatih, tahapan terakhir yakni menyimpan model beserta pipeline preprocessing untuk memudahkan deployment. Model disimpan dalam format `.keras` yang berisikan arsitektur dan bobot dalam satu file.\n",
        "\n",
        "Pipeline preprocessing juga disimpan dalam format `.pkl` menggunakan `joblib`, sehingga data baru dapat diproses dengan cara yang sama seperti saat pelatihan. Penyimpanan ini penting agar model dapat dimuat kembali tanpa perlu pelatihan ulang, baik untuk evaluasi lanjutan maupun integrasi ke sistem produksi."
      ],
      "metadata": {
        "id": "ZsETYxiSuLLh"
      }
    },
    {
      "cell_type": "code",
      "source": [
        "model.save(\"model_sakoo_ann.keras\")\n",
        "print(\"Model Keras disimpan di 'model_sakoo_ann.keras'\")\n",
        "\n",
        "joblib.dump(preprocessing_pipeline, \"preprocessing.pkl\")\n"
      ],
      "metadata": {
        "id": "jD7_0CujifXJ"
      },
      "execution_count": null,
      "outputs": []
    }
  ],
  "metadata": {
    "colab": {
      "provenance": [],
      "gpuType": "T4",
      "toc_visible": true
    },
    "kernelspec": {
      "display_name": "Python 3",
      "name": "python3"
    },
    "language_info": {
      "name": "python"
    },
    "accelerator": "GPU"
  },
  "nbformat": 4,
  "nbformat_minor": 0
}